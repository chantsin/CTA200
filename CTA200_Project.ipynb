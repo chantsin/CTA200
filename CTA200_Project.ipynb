{
 "cells": [
  {
   "cell_type": "code",
   "execution_count": 29,
   "metadata": {},
   "outputs": [],
   "source": [
    "import matplotlib.pyplot as plt\n",
    "import numpy as np\n",
    "import logging"
   ]
  },
  {
   "cell_type": "code",
   "execution_count": 30,
   "metadata": {},
   "outputs": [],
   "source": [
    "M = 20\n",
    "N = 20\n",
    "wavelengths_k = np.linspace(0, M-1, M)\n",
    "faraday_depth_p = np.linspace(0, N-1, N)"
   ]
  },
  {
   "cell_type": "code",
   "execution_count": 31,
   "metadata": {},
   "outputs": [
    {
     "data": {
      "text/plain": [
       "array([[ 1.        +0.j        , -0.41614684+0.90929743j],\n",
       "       [-0.95765948-0.28790332j, -0.82930983-0.55878905j],\n",
       "       [-0.69289582+0.72103771j,  0.24098831-0.97052802j],\n",
       "       [ 0.03100516-0.99951922j,  0.42412441+0.90560393j],\n",
       "       [ 0.98735362-0.15853338j,  0.9550379 +0.29648374j],\n",
       "       [-0.36745955+0.9300395j , -0.47922712-0.87769093j],\n",
       "       [ 0.96938539+0.24554421j, -0.46414931+0.88575698j],\n",
       "       [-0.93506079+0.35448741j, -0.28421136+0.95876165j],\n",
       "       [ 0.29280181-0.95617315j,  0.62018295-0.78445721j],\n",
       "       [-0.74282055+0.66949058j, -0.23350239+0.97235623j]])"
      ]
     },
     "execution_count": 31,
     "metadata": {},
     "output_type": "execute_result"
    }
   ],
   "source": [
    "array_2d = 2 * 1j * (wavelengths_k)**2 * faraday_depth_p\n",
    "A = np.exp(array_2d)\n",
    "matrix_a = np.array(A)\n",
    "np.reshape(matrix_a, (10, 2))"
   ]
  },
  {
   "cell_type": "code",
   "execution_count": 32,
   "metadata": {},
   "outputs": [],
   "source": [
    "frequency_k = np.arange(400, 800, 1024) #in 400 to 800 MHz\n",
    "faraday_depth_p = np.arange(-200, 200, 800) #in rad/m^2\n",
    "c = 3 * 10**8 # speed of light in m/s"
   ]
  },
  {
   "cell_type": "code",
   "execution_count": 33,
   "metadata": {},
   "outputs": [],
   "source": [
    "x_true_p = np.zeros(faraday_depth_p.shape)*0j"
   ]
  },
  {
   "cell_type": "code",
   "execution_count": 34,
   "metadata": {
    "scrolled": true
   },
   "outputs": [
    {
     "ename": "NameError",
     "evalue": "name 'models' is not defined",
     "output_type": "error",
     "traceback": [
      "\u001b[0;31m---------------------------------------------------------------------------\u001b[0m",
      "\u001b[0;31mNameError\u001b[0m                                 Traceback (most recent call last)",
      "\u001b[0;32m<ipython-input-34-e92bbc0d101a>\u001b[0m in \u001b[0;36m<module>\u001b[0;34m\u001b[0m\n\u001b[0;32m----> 1\u001b[0;31m \u001b[0mx_true_p\u001b[0m \u001b[0;34m+=\u001b[0m \u001b[0mmodels\u001b[0m\u001b[0;34m.\u001b[0m\u001b[0mdeltas\u001b[0m\u001b[0;34m(\u001b[0m\u001b[0mphi\u001b[0m\u001b[0;34m,\u001b[0m \u001b[0;36m1\u001b[0m\u001b[0;34m,\u001b[0m \u001b[0;36m450\u001b[0m\u001b[0;34m,\u001b[0m \u001b[0;36m0\u001b[0m\u001b[0;34m)\u001b[0m\u001b[0;34m\u001b[0m\u001b[0;34m\u001b[0m\u001b[0m\n\u001b[0m\u001b[1;32m      2\u001b[0m \u001b[0;31m# faraday signal\u001b[0m\u001b[0;34m\u001b[0m\u001b[0;34m\u001b[0m\u001b[0;34m\u001b[0m\u001b[0m\n\u001b[1;32m      3\u001b[0m \u001b[0;31m# cannot run due to unable to create model file to run delta function\u001b[0m\u001b[0;34m\u001b[0m\u001b[0;34m\u001b[0m\u001b[0;34m\u001b[0m\u001b[0m\n",
      "\u001b[0;31mNameError\u001b[0m: name 'models' is not defined"
     ]
    }
   ],
   "source": [
    "x_true_p += models.deltas(phi, 1, 450, 0)\n",
    "# faraday signal\n",
    "# cannot run due to unable to create model file to run delta function "
   ]
  },
  {
   "cell_type": "markdown",
   "metadata": {},
   "source": [
    "Measurement Matrix"
   ]
  },
  {
   "cell_type": "code",
   "execution_count": 35,
   "metadata": {},
   "outputs": [
    {
     "name": "stdout",
     "output_type": "stream",
     "text": [
      "<function matrix at 0x1181b9830>\n"
     ]
    }
   ],
   "source": [
    "logger = logging.getLogger ('Matrix A')\n",
    "\n",
    "def matrix(lambda2, phi): \n",
    "    A = np.zeros((len(lambda2), len(phi)), dtype = np.complex)\n",
    "    for m in range(len(lambda2)):\n",
    "        A[m, :] = np.exp(2 * lambda2[m] * phi * 1j) \n",
    "    for n in range(len(lambda2)):\n",
    "        A[:, n] = np.exp(2 * lambda2 * phi[n] * 1j)\n",
    "    return A"
   ]
  }
 ],
 "metadata": {
  "kernelspec": {
   "display_name": "Python 3",
   "language": "python",
   "name": "python3"
  },
  "language_info": {
   "codemirror_mode": {
    "name": "ipython",
    "version": 3
   },
   "file_extension": ".py",
   "mimetype": "text/x-python",
   "name": "python",
   "nbconvert_exporter": "python",
   "pygments_lexer": "ipython3",
   "version": "3.7.6"
  }
 },
 "nbformat": 4,
 "nbformat_minor": 4
}
